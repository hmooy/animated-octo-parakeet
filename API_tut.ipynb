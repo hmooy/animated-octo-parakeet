{
  "nbformat": 4,
  "nbformat_minor": 0,
  "metadata": {
    "colab": {
      "name": "API_tut.ipynb",
      "provenance": [],
      "authorship_tag": "ABX9TyPE0Pyei/VJ5EYLF4+ky4Du",
      "include_colab_link": true
    },
    "kernelspec": {
      "name": "python3",
      "display_name": "Python 3"
    }
  },
  "cells": [
    {
      "cell_type": "markdown",
      "metadata": {
        "id": "view-in-github",
        "colab_type": "text"
      },
      "source": [
        "<a href=\"https://colab.research.google.com/github/hmooy/animated-octo-parakeet/blob/master/API_tut.ipynb\" target=\"_parent\"><img src=\"https://colab.research.google.com/assets/colab-badge.svg\" alt=\"Open In Colab\"/></a>"
      ]
    },
    {
      "cell_type": "code",
      "metadata": {
        "id": "ksXxN2H_UIca",
        "colab_type": "code",
        "colab": {}
      },
      "source": [
        "import requests"
      ],
      "execution_count": 0,
      "outputs": []
    },
    {
      "cell_type": "code",
      "metadata": {
        "id": "ZPyPGjFlUNrV",
        "colab_type": "code",
        "colab": {}
      },
      "source": [
        "response = requests.get(\"http://api.open-notify.org/astros.json\")"
      ],
      "execution_count": 0,
      "outputs": []
    },
    {
      "cell_type": "code",
      "metadata": {
        "id": "lPIQB-t4UWUH",
        "colab_type": "code",
        "colab": {
          "base_uri": "https://localhost:8080/",
          "height": 34
        },
        "outputId": "599c32e5-1355-4d3b-f5b2-05211aaed64f"
      },
      "source": [
        "response.status_code"
      ],
      "execution_count": 5,
      "outputs": [
        {
          "output_type": "execute_result",
          "data": {
            "text/plain": [
              "200"
            ]
          },
          "metadata": {
            "tags": []
          },
          "execution_count": 5
        }
      ]
    },
    {
      "cell_type": "code",
      "metadata": {
        "id": "rWBDQfzQUYHl",
        "colab_type": "code",
        "colab": {
          "base_uri": "https://localhost:8080/",
          "height": 34
        },
        "outputId": "be632956-4f1b-440e-a141-e3089c0ff0d1"
      },
      "source": [
        "print(response.json())"
      ],
      "execution_count": 6,
      "outputs": [
        {
          "output_type": "stream",
          "text": [
            "{'people': [{'craft': 'ISS', 'name': 'Andrew Morgan'}, {'craft': 'ISS', 'name': 'Oleg Skripochka'}, {'craft': 'ISS', 'name': 'Jessica Meir'}], 'message': 'success', 'number': 3}\n"
          ],
          "name": "stdout"
        }
      ]
    },
    {
      "cell_type": "code",
      "metadata": {
        "id": "RlBZUixSUmZP",
        "colab_type": "code",
        "colab": {
          "base_uri": "https://localhost:8080/",
          "height": 323
        },
        "outputId": "df5b2f32-6533-470f-bc4b-3eb8a1e5ba39"
      },
      "source": [
        "import json\n",
        "\n",
        "def jprint(obj):\n",
        "\n",
        "  text = json.dumps(obj, sort_keys = True, indent = 4)\n",
        "  print(text)\n",
        "\n",
        "jprint(response.json())\n"
      ],
      "execution_count": 11,
      "outputs": [
        {
          "output_type": "stream",
          "text": [
            "{\n",
            "    \"message\": \"success\",\n",
            "    \"number\": 3,\n",
            "    \"people\": [\n",
            "        {\n",
            "            \"craft\": \"ISS\",\n",
            "            \"name\": \"Andrew Morgan\"\n",
            "        },\n",
            "        {\n",
            "            \"craft\": \"ISS\",\n",
            "            \"name\": \"Oleg Skripochka\"\n",
            "        },\n",
            "        {\n",
            "            \"craft\": \"ISS\",\n",
            "            \"name\": \"Jessica Meir\"\n",
            "        }\n",
            "    ]\n",
            "}\n"
          ],
          "name": "stdout"
        }
      ]
    },
    {
      "cell_type": "code",
      "metadata": {
        "id": "eFnFyC4nVoy3",
        "colab_type": "code",
        "colab": {}
      },
      "source": [
        "parameters = {\n",
        "    \"lat\":-37.824920,\n",
        "    \"lon\":144.964060\n",
        "}\n",
        "response = requests.get(\"http://api.open-notify.org/iss-pass.json\", params=parameters)"
      ],
      "execution_count": 0,
      "outputs": []
    },
    {
      "cell_type": "code",
      "metadata": {
        "id": "iCCmg9K7giDS",
        "colab_type": "code",
        "colab": {
          "base_uri": "https://localhost:8080/",
          "height": 187
        },
        "outputId": "6bfef81e-e9b6-4cf2-a1e5-20bd4fab2de8"
      },
      "source": [
        "response.json()"
      ],
      "execution_count": 22,
      "outputs": [
        {
          "output_type": "execute_result",
          "data": {
            "text/plain": [
              "{'message': 'success',\n",
              " 'request': {'altitude': 100,\n",
              "  'datetime': 1584835000,\n",
              "  'latitude': -37.82492,\n",
              "  'longitude': 144.96406,\n",
              "  'passes': 5},\n",
              " 'response': [{'duration': 531, 'risetime': 1584839234},\n",
              "  {'duration': 638, 'risetime': 1584845044},\n",
              "  {'duration': 636, 'risetime': 1584850854},\n",
              "  {'duration': 610, 'risetime': 1584905190}]}"
            ]
          },
          "metadata": {
            "tags": []
          },
          "execution_count": 22
        }
      ]
    },
    {
      "cell_type": "code",
      "metadata": {
        "id": "i8mHHX0bgpTH",
        "colab_type": "code",
        "colab": {}
      },
      "source": [
        "pass_times = response.json()['response']"
      ],
      "execution_count": 0,
      "outputs": []
    },
    {
      "cell_type": "code",
      "metadata": {
        "id": "bqZWQnOJiYv4",
        "colab_type": "code",
        "colab": {
          "base_uri": "https://localhost:8080/",
          "height": 85
        },
        "outputId": "8d618ecc-9bbb-4385-a6fe-74e6a03f8959"
      },
      "source": [
        "pass_times"
      ],
      "execution_count": 40,
      "outputs": [
        {
          "output_type": "execute_result",
          "data": {
            "text/plain": [
              "[{'duration': 531, 'risetime': 1584839234},\n",
              " {'duration': 638, 'risetime': 1584845044},\n",
              " {'duration': 636, 'risetime': 1584850854},\n",
              " {'duration': 610, 'risetime': 1584905190}]"
            ]
          },
          "metadata": {
            "tags": []
          },
          "execution_count": 40
        }
      ]
    },
    {
      "cell_type": "code",
      "metadata": {
        "id": "BUGOjuPOjCJY",
        "colab_type": "code",
        "colab": {}
      },
      "source": [
        "risetime = [i['risetime'] for i in pass_times]"
      ],
      "execution_count": 0,
      "outputs": []
    },
    {
      "cell_type": "code",
      "metadata": {
        "id": "M-9gXNj5lpf6",
        "colab_type": "code",
        "colab": {}
      },
      "source": [
        "from datetime import datetime"
      ],
      "execution_count": 0,
      "outputs": []
    },
    {
      "cell_type": "code",
      "metadata": {
        "id": "qmZ4fXDRm_2-",
        "colab_type": "code",
        "colab": {
          "base_uri": "https://localhost:8080/",
          "height": 85
        },
        "outputId": "2e1f0c80-7428-4f16-91bd-985c2a42b496"
      },
      "source": [
        "from datetime import datetime\n",
        "\n",
        "times = []\n",
        "\n",
        "for rt in risetime:\n",
        "    time = datetime.fromtimestamp(rt)\n",
        "    times.append(time)\n",
        "    print(time)"
      ],
      "execution_count": 61,
      "outputs": [
        {
          "output_type": "stream",
          "text": [
            "2020-03-22 01:07:14\n",
            "2020-03-22 02:44:04\n",
            "2020-03-22 04:20:54\n",
            "2020-03-22 19:26:30\n"
          ],
          "name": "stdout"
        }
      ]
    },
    {
      "cell_type": "code",
      "metadata": {
        "id": "LFSduiZZnOT-",
        "colab_type": "code",
        "colab": {}
      },
      "source": [
        ""
      ],
      "execution_count": 0,
      "outputs": []
    }
  ]
}